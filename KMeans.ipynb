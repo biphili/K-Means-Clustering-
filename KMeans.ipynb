{
 "cells": [
  {
   "cell_type": "code",
   "execution_count": 1,
   "metadata": {
    "collapsed": true
   },
   "outputs": [],
   "source": [
    "import numpy as np "
   ]
  },
  {
   "cell_type": "code",
   "execution_count": 2,
   "metadata": {
    "collapsed": true
   },
   "outputs": [],
   "source": [
    "import pandas as pd "
   ]
  },
  {
   "cell_type": "code",
   "execution_count": 4,
   "metadata": {
    "collapsed": true
   },
   "outputs": [],
   "source": [
    "from matplotlib import pyplot as plt"
   ]
  },
  {
   "cell_type": "code",
   "execution_count": 5,
   "metadata": {
    "collapsed": true
   },
   "outputs": [],
   "source": [
    "from sklearn.cluster import KMeans "
   ]
  },
  {
   "cell_type": "code",
   "execution_count": 6,
   "metadata": {
    "collapsed": true
   },
   "outputs": [],
   "source": [
    "df=pd.read_csv('Eruptions.csv')"
   ]
  },
  {
   "cell_type": "code",
   "execution_count": 7,
   "metadata": {},
   "outputs": [
    {
     "data": {
      "text/html": [
       "<div>\n",
       "<style>\n",
       "    .dataframe thead tr:only-child th {\n",
       "        text-align: right;\n",
       "    }\n",
       "\n",
       "    .dataframe thead th {\n",
       "        text-align: left;\n",
       "    }\n",
       "\n",
       "    .dataframe tbody tr th {\n",
       "        vertical-align: top;\n",
       "    }\n",
       "</style>\n",
       "<table border=\"1\" class=\"dataframe\">\n",
       "  <thead>\n",
       "    <tr style=\"text-align: right;\">\n",
       "      <th></th>\n",
       "      <th>eruptions</th>\n",
       "      <th>waiting</th>\n",
       "    </tr>\n",
       "  </thead>\n",
       "  <tbody>\n",
       "    <tr>\n",
       "      <th>0</th>\n",
       "      <td>3.600</td>\n",
       "      <td>79</td>\n",
       "    </tr>\n",
       "    <tr>\n",
       "      <th>1</th>\n",
       "      <td>1.800</td>\n",
       "      <td>54</td>\n",
       "    </tr>\n",
       "    <tr>\n",
       "      <th>2</th>\n",
       "      <td>3.333</td>\n",
       "      <td>74</td>\n",
       "    </tr>\n",
       "    <tr>\n",
       "      <th>3</th>\n",
       "      <td>2.283</td>\n",
       "      <td>62</td>\n",
       "    </tr>\n",
       "    <tr>\n",
       "      <th>4</th>\n",
       "      <td>4.533</td>\n",
       "      <td>85</td>\n",
       "    </tr>\n",
       "  </tbody>\n",
       "</table>\n",
       "</div>"
      ],
      "text/plain": [
       "   eruptions  waiting\n",
       "0      3.600       79\n",
       "1      1.800       54\n",
       "2      3.333       74\n",
       "3      2.283       62\n",
       "4      4.533       85"
      ]
     },
     "execution_count": 7,
     "metadata": {},
     "output_type": "execute_result"
    }
   ],
   "source": [
    "df.head()"
   ]
  },
  {
   "cell_type": "code",
   "execution_count": 21,
   "metadata": {
    "collapsed": true
   },
   "outputs": [],
   "source": [
    "k=4"
   ]
  },
  {
   "cell_type": "code",
   "execution_count": 22,
   "metadata": {
    "collapsed": true
   },
   "outputs": [],
   "source": [
    "kmeans=KMeans(n_clusters=k)"
   ]
  },
  {
   "cell_type": "code",
   "execution_count": 23,
   "metadata": {
    "collapsed": true
   },
   "outputs": [],
   "source": [
    "kmeans=kmeans.fit(df)"
   ]
  },
  {
   "cell_type": "code",
   "execution_count": 24,
   "metadata": {
    "collapsed": true
   },
   "outputs": [],
   "source": [
    "labels=kmeans.labels_"
   ]
  },
  {
   "cell_type": "code",
   "execution_count": 25,
   "metadata": {},
   "outputs": [
    {
     "data": {
      "text/plain": [
       "array([2, 3, 2, 1, 0, 3, 0, 0, 3, 0, 3, 0, 2, 3, 0, 3, 1, 0, 3, 2, 3, 3, 2,\n",
       "       2, 2, 0, 3, 2, 2, 2, 2, 2, 1, 2, 2, 3, 3, 2, 1, 0, 2, 1, 0, 1, 2, 0,\n",
       "       1, 3, 0, 1, 2, 0, 3, 2, 3, 0, 2, 1, 2, 0, 1, 0, 3, 0, 1, 0, 2, 2, 1,\n",
       "       2, 0, 1, 2, 2, 1, 2, 1, 2, 2, 0, 2, 0, 2, 1, 2, 0, 2, 2, 3, 0, 1, 0,\n",
       "       3, 2, 1, 2, 0, 2, 3, 0, 1, 0, 3, 0, 0, 3, 0, 3, 0, 0, 2, 1, 0, 2, 1,\n",
       "       0, 3, 0, 1, 0, 3, 2, 2, 1, 0, 0, 3, 0, 3, 0, 3, 0, 1, 0, 3, 0, 3, 0,\n",
       "       3, 2, 0, 1, 0, 2, 2, 1, 2, 3, 0, 3, 2, 2, 1, 0, 2, 2, 0, 0, 3, 0, 3,\n",
       "       0, 1, 2, 1, 2, 1, 0, 3, 0, 3, 1, 2, 1, 0, 0, 2, 3, 0, 2, 3, 2, 0, 0,\n",
       "       3, 2, 0, 3, 0, 3, 0, 1, 2, 0, 2, 0, 0, 2, 3, 2, 1, 0, 0, 3, 2, 3, 2,\n",
       "       0, 3, 0, 2, 2, 3, 2, 1, 2, 3, 0, 3, 2, 3, 0, 3, 2, 2, 2, 2, 2, 2, 2,\n",
       "       2, 3, 0, 3, 0, 3, 3, 2, 2, 1, 2, 3, 0, 1, 0, 0, 1, 0, 1, 2, 3, 0, 2,\n",
       "       2, 0, 2, 2, 0, 1, 2, 2, 0, 1, 0, 3, 1, 2, 0, 3, 0, 3, 2])"
      ]
     },
     "execution_count": 25,
     "metadata": {},
     "output_type": "execute_result"
    }
   ],
   "source": [
    "labels\n"
   ]
  },
  {
   "cell_type": "code",
   "execution_count": 26,
   "metadata": {
    "collapsed": true
   },
   "outputs": [],
   "source": [
    "centroids=kmeans.cluster_centers_"
   ]
  },
  {
   "cell_type": "code",
   "execution_count": 27,
   "metadata": {
    "collapsed": true
   },
   "outputs": [],
   "source": [
    "x_test=[[4.671,67],[2.885,61],[1.666,90],[5.623,54],[2.678,80],[1.875,60]]"
   ]
  },
  {
   "cell_type": "code",
   "execution_count": 35,
   "metadata": {
    "collapsed": true
   },
   "outputs": [],
   "source": [
    "prediction=kmeans.predict(x_test)"
   ]
  },
  {
   "cell_type": "code",
   "execution_count": 36,
   "metadata": {},
   "outputs": [
    {
     "data": {
      "text/plain": [
       "array([1, 1, 0, 3, 2, 1])"
      ]
     },
     "execution_count": 36,
     "metadata": {},
     "output_type": "execute_result"
    }
   ],
   "source": [
    "prediction"
   ]
  },
  {
   "cell_type": "code",
   "execution_count": 37,
   "metadata": {
    "collapsed": true
   },
   "outputs": [],
   "source": [
    "colors=['blue','blue','blue','blue']"
   ]
  },
  {
   "cell_type": "code",
   "execution_count": 41,
   "metadata": {},
   "outputs": [
    {
     "data": {
      "image/png": "[encoded data removed]",
      "text/plain": [
       "<matplotlib.figure.Figure at 0x51038ed358>"
      ]
     },
     "metadata": {},
     "output_type": "display_data"
    }
   ],
   "source": [
    "y=0\n",
    "for x in labels:\n",
    "    plt.scatter(df.iloc[y,0],df.iloc[y,1],color=colors[x])\n",
    "    y=y+1\n",
    "plt.title('Title')\n",
    "plt.xlabel('Eruptions (mins)')\n",
    "plt.ylabel('Waiting (mins)')\n",
    "plt.show()"
   ]
  },
  {
   "cell_type": "code",
   "execution_count": 42,
   "metadata": {},
   "outputs": [
    {
     "data": {
      "image/png": "[encoded data removed]",
      "text/plain": [
       "<matplotlib.figure.Figure at 0x51038fc0b8>"
      ]
     },
     "metadata": {},
     "output_type": "display_data"
    }
   ],
   "source": [
    "colors=['blue','red','green','black']\n",
    "y=0\n",
    "for x in labels:\n",
    "    plt.scatter(df.iloc[y,0],df.iloc[y,1],color=colors[x])\n",
    "    y=y+1\n",
    "for x in range(k):\n",
    "    lines=plt.plot(centroids[x,0],centroids[x,1],'kx')\n",
    "    plt.setp(lines,ms=15.0)\n",
    "    plt.setp(lines,mew=2.0)\n",
    "Title=('No of cluster (k)={}').format(k)\n",
    "plt.title(Title)\n",
    "plt.xlabel('Eruptions (mins)')\n",
    "plt.ylabel('Waiting (mins)')\n",
    "plt.show()"
   ]
  },
  {
   "cell_type": "code",
   "execution_count": null,
   "metadata": {
    "collapsed": true
   },
   "outputs": [],
   "source": []
  }
 ],
 "metadata": {
  "kernelspec": {
   "display_name": "Python 3",
   "language": "python",
   "name": "python3"
  },
  "language_info": {
   "codemirror_mode": {
    "name": "ipython",
    "version": 3
   },
   "file_extension": ".py",
   "mimetype": "text/x-python",
   "name": "python",
   "nbconvert_exporter": "python",
   "pygments_lexer": "ipython3",
   "version": "3.6.3"
  }
 },
 "nbformat": 4,
 "nbformat_minor": 2
}
